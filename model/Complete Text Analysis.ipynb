{
 "cells": [
  {
   "cell_type": "markdown",
   "metadata": {},
   "source": [
    "# Text Analysis"
   ]
  },
  {
   "cell_type": "code",
   "execution_count": 1,
   "metadata": {},
   "outputs": [],
   "source": [
    "# Importing basic libraries\n",
    "import pandas as pd\n",
    "import numpy as np\n",
    "import spacy\n",
    "import string\n",
    "punct = string.punctuation\n",
    "nlp = spacy.load('en_core_web_sm') #Loading spacy english"
   ]
  },
  {
   "cell_type": "code",
   "execution_count": 2,
   "metadata": {},
   "outputs": [
    {
     "name": "stdout",
     "output_type": "stream",
     "text": [
      "(65, 3)\n"
     ]
    },
    {
     "data": {
      "text/html": [
       "<div>\n",
       "<style scoped>\n",
       "    .dataframe tbody tr th:only-of-type {\n",
       "        vertical-align: middle;\n",
       "    }\n",
       "\n",
       "    .dataframe tbody tr th {\n",
       "        vertical-align: top;\n",
       "    }\n",
       "\n",
       "    .dataframe thead th {\n",
       "        text-align: right;\n",
       "    }\n",
       "</style>\n",
       "<table border=\"1\" class=\"dataframe\">\n",
       "  <thead>\n",
       "    <tr style=\"text-align: right;\">\n",
       "      <th></th>\n",
       "      <th>Sno</th>\n",
       "      <th>Text</th>\n",
       "      <th>State</th>\n",
       "    </tr>\n",
       "  </thead>\n",
       "  <tbody>\n",
       "    <tr>\n",
       "      <th>0</th>\n",
       "      <td>1</td>\n",
       "      <td>Hi, welcome to Pizza Hut. My name is Christine...</td>\n",
       "      <td>Null</td>\n",
       "    </tr>\n",
       "    <tr>\n",
       "      <th>1</th>\n",
       "      <td>2</td>\n",
       "      <td>Hi, welcome to a Pizza Hut is Chris may have y...</td>\n",
       "      <td>NSW</td>\n",
       "    </tr>\n",
       "    <tr>\n",
       "      <th>2</th>\n",
       "      <td>3</td>\n",
       "      <td>Thank you for calling Pizza Hut. This is Jenny...</td>\n",
       "      <td>Newtown</td>\n",
       "    </tr>\n",
       "    <tr>\n",
       "      <th>3</th>\n",
       "      <td>4</td>\n",
       "      <td>Thanks for calling Pizza Hut to spell. Can I h...</td>\n",
       "      <td>Victoria</td>\n",
       "    </tr>\n",
       "    <tr>\n",
       "      <th>4</th>\n",
       "      <td>5</td>\n",
       "      <td>Hi, welcome to Pizza Hut. My name is Christine...</td>\n",
       "      <td>Null</td>\n",
       "    </tr>\n",
       "  </tbody>\n",
       "</table>\n",
       "</div>"
      ],
      "text/plain": [
       "   Sno                                               Text     State\n",
       "0    1  Hi, welcome to Pizza Hut. My name is Christine...      Null\n",
       "1    2  Hi, welcome to a Pizza Hut is Chris may have y...       NSW\n",
       "2    3  Thank you for calling Pizza Hut. This is Jenny...   Newtown\n",
       "3    4  Thanks for calling Pizza Hut to spell. Can I h...  Victoria\n",
       "4    5  Hi, welcome to Pizza Hut. My name is Christine...      Null"
      ]
     },
     "execution_count": 2,
     "metadata": {},
     "output_type": "execute_result"
    }
   ],
   "source": [
    "df = pd.read_excel('AllTranscriptions.xlsx')  #reading reviews dataset\n",
    "print(df.shape)\n",
    "df.head()"
   ]
  },
  {
   "cell_type": "code",
   "execution_count": 3,
   "metadata": {},
   "outputs": [
    {
     "data": {
      "text/plain": [
       "Sno      0\n",
       "Text     0\n",
       "State    0\n",
       "dtype: int64"
      ]
     },
     "execution_count": 3,
     "metadata": {},
     "output_type": "execute_result"
    }
   ],
   "source": [
    "df.isnull().sum()"
   ]
  },
  {
   "cell_type": "code",
   "execution_count": 4,
   "metadata": {},
   "outputs": [
    {
     "data": {
      "text/plain": [
       "NSW         24\n",
       "QLD         12\n",
       "Null        11\n",
       "Victoria    11\n",
       "WA           3\n",
       "NT           2\n",
       "SA           1\n",
       "Newtown      1\n",
       "Name: State, dtype: int64"
      ]
     },
     "execution_count": 4,
     "metadata": {},
     "output_type": "execute_result"
    }
   ],
   "source": [
    "df['State'].value_counts()"
   ]
  },
  {
   "cell_type": "markdown",
   "metadata": {},
   "source": [
    "# Text Preprocessing"
   ]
  },
  {
   "cell_type": "code",
   "execution_count": 5,
   "metadata": {},
   "outputs": [],
   "source": [
    "def text_clean(text):\n",
    "    text = text.lower()  #Convert text in lower case\n",
    "    punc_removed = [char for char in text if char not in punct]  #Removing Punctuations\n",
    "    punc_removed_join = ''.join(punc_removed) \n",
    "    \n",
    "    doc= nlp(punc_removed_join)\n",
    "    text_out = [token.lemma_ for token in doc if token.is_stop == False and token.is_alpha and len(token)>2]\n",
    "    txt = ' '.join(text_out)\n",
    "    return txt\n",
    "    \n",
    "    \n",
    "    \n",
    "#     for token in doc:\n",
    "#         if token.is_stop == False and token.is_alpha and len(token)>2:\n",
    "#             lemma = token.lemma_            #lemmatization of token word\n",
    "#             text_out.append(lemma)\n",
    "            \n",
    "#     return text_out"
   ]
  },
  {
   "cell_type": "code",
   "execution_count": 6,
   "metadata": {},
   "outputs": [
    {
     "data": {
      "text/html": [
       "<div>\n",
       "<style scoped>\n",
       "    .dataframe tbody tr th:only-of-type {\n",
       "        vertical-align: middle;\n",
       "    }\n",
       "\n",
       "    .dataframe tbody tr th {\n",
       "        vertical-align: top;\n",
       "    }\n",
       "\n",
       "    .dataframe thead th {\n",
       "        text-align: right;\n",
       "    }\n",
       "</style>\n",
       "<table border=\"1\" class=\"dataframe\">\n",
       "  <thead>\n",
       "    <tr style=\"text-align: right;\">\n",
       "      <th></th>\n",
       "      <th>Sno</th>\n",
       "      <th>Text</th>\n",
       "      <th>State</th>\n",
       "      <th>clean_text</th>\n",
       "    </tr>\n",
       "  </thead>\n",
       "  <tbody>\n",
       "    <tr>\n",
       "      <th>0</th>\n",
       "      <td>1</td>\n",
       "      <td>Hi, welcome to Pizza Hut. My name is Christine...</td>\n",
       "      <td>Null</td>\n",
       "      <td>welcome pizza hut christine pleasehi dear ipi ...</td>\n",
       "    </tr>\n",
       "    <tr>\n",
       "      <th>1</th>\n",
       "      <td>2</td>\n",
       "      <td>Hi, welcome to a Pizza Hut is Chris may have y...</td>\n",
       "      <td>NSW</td>\n",
       "      <td>welcome pizza hut chris pleasesee pay like hea...</td>\n",
       "    </tr>\n",
       "    <tr>\n",
       "      <th>2</th>\n",
       "      <td>3</td>\n",
       "      <td>Thank you for calling Pizza Hut. This is Jenny...</td>\n",
       "      <td>Newtown</td>\n",
       "      <td>thank call pizza hut jenny nameis pizza hut ca...</td>\n",
       "    </tr>\n",
       "    <tr>\n",
       "      <th>3</th>\n",
       "      <td>4</td>\n",
       "      <td>Thanks for calling Pizza Hut to spell. Can I h...</td>\n",
       "      <td>Victoria</td>\n",
       "      <td>thank call pizza hut spell pleasehi call pick ...</td>\n",
       "    </tr>\n",
       "    <tr>\n",
       "      <th>4</th>\n",
       "      <td>5</td>\n",
       "      <td>Hi, welcome to Pizza Hut. My name is Christine...</td>\n",
       "      <td>Null</td>\n",
       "      <td>welcome pizza hut christine pleasehi dear ipi ...</td>\n",
       "    </tr>\n",
       "  </tbody>\n",
       "</table>\n",
       "</div>"
      ],
      "text/plain": [
       "   Sno                                               Text     State  \\\n",
       "0    1  Hi, welcome to Pizza Hut. My name is Christine...      Null   \n",
       "1    2  Hi, welcome to a Pizza Hut is Chris may have y...       NSW   \n",
       "2    3  Thank you for calling Pizza Hut. This is Jenny...   Newtown   \n",
       "3    4  Thanks for calling Pizza Hut to spell. Can I h...  Victoria   \n",
       "4    5  Hi, welcome to Pizza Hut. My name is Christine...      Null   \n",
       "\n",
       "                                          clean_text  \n",
       "0  welcome pizza hut christine pleasehi dear ipi ...  \n",
       "1  welcome pizza hut chris pleasesee pay like hea...  \n",
       "2  thank call pizza hut jenny nameis pizza hut ca...  \n",
       "3  thank call pizza hut spell pleasehi call pick ...  \n",
       "4  welcome pizza hut christine pleasehi dear ipi ...  "
      ]
     },
     "execution_count": 6,
     "metadata": {},
     "output_type": "execute_result"
    }
   ],
   "source": [
    "df['clean_text'] = df['Text'].apply(text_clean)\n",
    "df.head()"
   ]
  },
  {
   "cell_type": "markdown",
   "metadata": {},
   "source": [
    "# Sentiment Analysis"
   ]
  },
  {
   "cell_type": "code",
   "execution_count": 7,
   "metadata": {},
   "outputs": [],
   "source": [
    "# Create function for polarity checking\n",
    "from spacytextblob.spacytextblob import SpacyTextBlob\n",
    "nlp = spacy.load('en_core_web_sm')\n",
    "spacy_text_blob = SpacyTextBlob()\n",
    "nlp.add_pipe(spacy_text_blob)\n",
    "\n",
    "def polarity(text):\n",
    "    doc = nlp(text)\n",
    "    pol = float(format(doc._.sentiment.polarity, '.3f'))\n",
    "    return pol"
   ]
  },
  {
   "cell_type": "code",
   "execution_count": 8,
   "metadata": {},
   "outputs": [
    {
     "data": {
      "text/plain": [
       "'welcome pizza hut christine pleasehi dear ipi order somebody call place pizza place order reference number give line get disconnectedso place orderso say ask bring machine intend thing say yes finalize reference number line get cut offand remember talk alright hold let ahead double check request mobile app plus sorryv victor alpha samif alpha fanelli friend want surname actually betterfull yes want victor alpha sam alpha informally diva tom hotel india nancy feel india basanti neosho young living course shanker surname hotel alphain finance ekipa kite aar shankarsir kindly stay line real quick ahead talk double check sure order pizza dinner basically want pizza line get disconnected know order understandyes understand moment ill ahead touch line'"
      ]
     },
     "execution_count": 8,
     "metadata": {},
     "output_type": "execute_result"
    }
   ],
   "source": [
    "df['clean_text'][0]"
   ]
  },
  {
   "cell_type": "code",
   "execution_count": 9,
   "metadata": {},
   "outputs": [
    {
     "data": {
      "text/plain": [
       "0.222"
      ]
     },
     "execution_count": 9,
     "metadata": {},
     "output_type": "execute_result"
    }
   ],
   "source": [
    "polarity(df['clean_text'][0])"
   ]
  },
  {
   "cell_type": "code",
   "execution_count": 10,
   "metadata": {},
   "outputs": [],
   "source": [
    "df['polarity'] = df['clean_text'].apply(polarity)\n"
   ]
  },
  {
   "cell_type": "code",
   "execution_count": 11,
   "metadata": {},
   "outputs": [
    {
     "data": {
      "text/html": [
       "<div>\n",
       "<style scoped>\n",
       "    .dataframe tbody tr th:only-of-type {\n",
       "        vertical-align: middle;\n",
       "    }\n",
       "\n",
       "    .dataframe tbody tr th {\n",
       "        vertical-align: top;\n",
       "    }\n",
       "\n",
       "    .dataframe thead th {\n",
       "        text-align: right;\n",
       "    }\n",
       "</style>\n",
       "<table border=\"1\" class=\"dataframe\">\n",
       "  <thead>\n",
       "    <tr style=\"text-align: right;\">\n",
       "      <th></th>\n",
       "      <th>Sno</th>\n",
       "      <th>Text</th>\n",
       "      <th>State</th>\n",
       "      <th>clean_text</th>\n",
       "      <th>polarity</th>\n",
       "    </tr>\n",
       "  </thead>\n",
       "  <tbody>\n",
       "    <tr>\n",
       "      <th>56</th>\n",
       "      <td>57</td>\n",
       "      <td>Hi, this is Michael from Pizza Hut near. Pleas...</td>\n",
       "      <td>Null</td>\n",
       "      <td>michael pizza hut near namea highly hello sist...</td>\n",
       "      <td>0.137</td>\n",
       "    </tr>\n",
       "    <tr>\n",
       "      <th>0</th>\n",
       "      <td>1</td>\n",
       "      <td>Hi, welcome to Pizza Hut. My name is Christine...</td>\n",
       "      <td>Null</td>\n",
       "      <td>welcome pizza hut christine pleasehi dear ipi ...</td>\n",
       "      <td>0.222</td>\n",
       "    </tr>\n",
       "    <tr>\n",
       "      <th>47</th>\n",
       "      <td>48</td>\n",
       "      <td>Thanks for calling Pizza Hut. This is Jenny. M...</td>\n",
       "      <td>WA</td>\n",
       "      <td>thank call pizza hut jenny namehello spell mey...</td>\n",
       "      <td>0.066</td>\n",
       "    </tr>\n",
       "    <tr>\n",
       "      <th>31</th>\n",
       "      <td>32</td>\n",
       "      <td>Hello, thank you for calling.Your name?Yes, my...</td>\n",
       "      <td>QLD</td>\n",
       "      <td>hello thank callingyour nameyes call pick deli...</td>\n",
       "      <td>-0.067</td>\n",
       "    </tr>\n",
       "    <tr>\n",
       "      <th>28</th>\n",
       "      <td>29</td>\n",
       "      <td>Thank you for calling Pizza Hut is Joanna spea...</td>\n",
       "      <td>NSW</td>\n",
       "      <td>thank call pizza hut joanna speak namemy call ...</td>\n",
       "      <td>-0.083</td>\n",
       "    </tr>\n",
       "    <tr>\n",
       "      <th>38</th>\n",
       "      <td>39</td>\n",
       "      <td>Hi, welcome to Pizza Hut Irene speaking. Can I...</td>\n",
       "      <td>QLD</td>\n",
       "      <td>welcome pizza hut irene speak pleaseoffline ha...</td>\n",
       "      <td>0.100</td>\n",
       "    </tr>\n",
       "    <tr>\n",
       "      <th>33</th>\n",
       "      <td>34</td>\n",
       "      <td>Thank you for calling Pizza Hut. My name is Ka...</td>\n",
       "      <td>NSW</td>\n",
       "      <td>thank call pizza hut karen call pick deliveryd...</td>\n",
       "      <td>0.057</td>\n",
       "    </tr>\n",
       "    <tr>\n",
       "      <th>2</th>\n",
       "      <td>3</td>\n",
       "      <td>Thank you for calling Pizza Hut. This is Jenny...</td>\n",
       "      <td>Newtown</td>\n",
       "      <td>thank call pizza hut jenny nameis pizza hut ca...</td>\n",
       "      <td>-0.062</td>\n",
       "    </tr>\n",
       "    <tr>\n",
       "      <th>17</th>\n",
       "      <td>18</td>\n",
       "      <td>Hi, welcome to a Pizza Hut is Chris may have y...</td>\n",
       "      <td>NSW</td>\n",
       "      <td>welcome pizza hut chris pleasesee pay like hea...</td>\n",
       "      <td>-0.029</td>\n",
       "    </tr>\n",
       "    <tr>\n",
       "      <th>43</th>\n",
       "      <td>44</td>\n",
       "      <td>Thank you for calling Pizza Hut. This is Chloe...</td>\n",
       "      <td>QLD</td>\n",
       "      <td>thank call pizza hut chloe pleasea thank call ...</td>\n",
       "      <td>0.038</td>\n",
       "    </tr>\n",
       "  </tbody>\n",
       "</table>\n",
       "</div>"
      ],
      "text/plain": [
       "    Sno                                               Text    State  \\\n",
       "56   57  Hi, this is Michael from Pizza Hut near. Pleas...     Null   \n",
       "0     1  Hi, welcome to Pizza Hut. My name is Christine...     Null   \n",
       "47   48  Thanks for calling Pizza Hut. This is Jenny. M...       WA   \n",
       "31   32  Hello, thank you for calling.Your name?Yes, my...      QLD   \n",
       "28   29  Thank you for calling Pizza Hut is Joanna spea...      NSW   \n",
       "38   39  Hi, welcome to Pizza Hut Irene speaking. Can I...      QLD   \n",
       "33   34  Thank you for calling Pizza Hut. My name is Ka...      NSW   \n",
       "2     3  Thank you for calling Pizza Hut. This is Jenny...  Newtown   \n",
       "17   18  Hi, welcome to a Pizza Hut is Chris may have y...      NSW   \n",
       "43   44  Thank you for calling Pizza Hut. This is Chloe...      QLD   \n",
       "\n",
       "                                           clean_text  polarity  \n",
       "56  michael pizza hut near namea highly hello sist...     0.137  \n",
       "0   welcome pizza hut christine pleasehi dear ipi ...     0.222  \n",
       "47  thank call pizza hut jenny namehello spell mey...     0.066  \n",
       "31  hello thank callingyour nameyes call pick deli...    -0.067  \n",
       "28  thank call pizza hut joanna speak namemy call ...    -0.083  \n",
       "38  welcome pizza hut irene speak pleaseoffline ha...     0.100  \n",
       "33  thank call pizza hut karen call pick deliveryd...     0.057  \n",
       "2   thank call pizza hut jenny nameis pizza hut ca...    -0.062  \n",
       "17  welcome pizza hut chris pleasesee pay like hea...    -0.029  \n",
       "43  thank call pizza hut chloe pleasea thank call ...     0.038  "
      ]
     },
     "execution_count": 11,
     "metadata": {},
     "output_type": "execute_result"
    }
   ],
   "source": [
    "df.sample(10)"
   ]
  },
  {
   "cell_type": "code",
   "execution_count": 12,
   "metadata": {},
   "outputs": [
    {
     "data": {
      "text/html": [
       "<div>\n",
       "<style scoped>\n",
       "    .dataframe tbody tr th:only-of-type {\n",
       "        vertical-align: middle;\n",
       "    }\n",
       "\n",
       "    .dataframe tbody tr th {\n",
       "        vertical-align: top;\n",
       "    }\n",
       "\n",
       "    .dataframe thead th {\n",
       "        text-align: right;\n",
       "    }\n",
       "</style>\n",
       "<table border=\"1\" class=\"dataframe\">\n",
       "  <thead>\n",
       "    <tr style=\"text-align: right;\">\n",
       "      <th></th>\n",
       "      <th>Sno</th>\n",
       "      <th>Text</th>\n",
       "      <th>State</th>\n",
       "      <th>clean_text</th>\n",
       "      <th>polarity</th>\n",
       "      <th>sentiment</th>\n",
       "    </tr>\n",
       "  </thead>\n",
       "  <tbody>\n",
       "    <tr>\n",
       "      <th>20</th>\n",
       "      <td>21</td>\n",
       "      <td>Call pizza offices. Chloe may have your name, ...</td>\n",
       "      <td>Victoria</td>\n",
       "      <td>pizza office chloe pleasehi connect crumble pi...</td>\n",
       "      <td>-0.022</td>\n",
       "      <td>Neg</td>\n",
       "    </tr>\n",
       "    <tr>\n",
       "      <th>56</th>\n",
       "      <td>57</td>\n",
       "      <td>Hi, this is Michael from Pizza Hut near. Pleas...</td>\n",
       "      <td>Null</td>\n",
       "      <td>michael pizza hut near namea highly hello sist...</td>\n",
       "      <td>0.137</td>\n",
       "      <td>Pos</td>\n",
       "    </tr>\n",
       "    <tr>\n",
       "      <th>61</th>\n",
       "      <td>62</td>\n",
       "      <td>Thank you for calling Pizza Hut this is Shane....</td>\n",
       "      <td>QLD</td>\n",
       "      <td>thank call pizza hut shane namemy call pick de...</td>\n",
       "      <td>-0.078</td>\n",
       "      <td>Neg</td>\n",
       "    </tr>\n",
       "    <tr>\n",
       "      <th>64</th>\n",
       "      <td>65</td>\n",
       "      <td>Hi, thank you for calling pizza. This is VL, m...</td>\n",
       "      <td>Null</td>\n",
       "      <td>thank call pizza pleasehi pizza hut wanna room...</td>\n",
       "      <td>-0.009</td>\n",
       "      <td>Neg</td>\n",
       "    </tr>\n",
       "    <tr>\n",
       "      <th>45</th>\n",
       "      <td>46</td>\n",
       "      <td>Thank you for calling Pizza Hut may know your ...</td>\n",
       "      <td>NSW</td>\n",
       "      <td>thank call pizza hut know thank call pick deli...</td>\n",
       "      <td>0.109</td>\n",
       "      <td>Pos</td>\n",
       "    </tr>\n",
       "    <tr>\n",
       "      <th>52</th>\n",
       "      <td>53</td>\n",
       "      <td>Want to chat minimis? Karen may have your name...</td>\n",
       "      <td>NSW</td>\n",
       "      <td>want chat minimis karen yes call pick delivery...</td>\n",
       "      <td>-0.030</td>\n",
       "      <td>Neg</td>\n",
       "    </tr>\n",
       "    <tr>\n",
       "      <th>62</th>\n",
       "      <td>63</td>\n",
       "      <td>Hi, welcome to Pizza Hut. My name is Christine...</td>\n",
       "      <td>QLD</td>\n",
       "      <td>welcome pizza hut christine pleaseis delivery ...</td>\n",
       "      <td>0.197</td>\n",
       "      <td>Pos</td>\n",
       "    </tr>\n",
       "    <tr>\n",
       "      <th>22</th>\n",
       "      <td>23</td>\n",
       "      <td>Welcome to Pizza Hut. My name is Miguel can ha...</td>\n",
       "      <td>Null</td>\n",
       "      <td>welcome pizza hut miguel pleasemy good afterno...</td>\n",
       "      <td>0.217</td>\n",
       "      <td>Pos</td>\n",
       "    </tr>\n",
       "    <tr>\n",
       "      <th>39</th>\n",
       "      <td>40</td>\n",
       "      <td>Thank you for calling Pizza Hut. This is Jenny...</td>\n",
       "      <td>Null</td>\n",
       "      <td>thank call pizza hut jenny namea mattress sate...</td>\n",
       "      <td>0.344</td>\n",
       "      <td>Pos</td>\n",
       "    </tr>\n",
       "    <tr>\n",
       "      <th>28</th>\n",
       "      <td>29</td>\n",
       "      <td>Thank you for calling Pizza Hut is Joanna spea...</td>\n",
       "      <td>NSW</td>\n",
       "      <td>thank call pizza hut joanna speak namemy call ...</td>\n",
       "      <td>-0.083</td>\n",
       "      <td>Neg</td>\n",
       "    </tr>\n",
       "  </tbody>\n",
       "</table>\n",
       "</div>"
      ],
      "text/plain": [
       "    Sno                                               Text     State  \\\n",
       "20   21  Call pizza offices. Chloe may have your name, ...  Victoria   \n",
       "56   57  Hi, this is Michael from Pizza Hut near. Pleas...      Null   \n",
       "61   62  Thank you for calling Pizza Hut this is Shane....       QLD   \n",
       "64   65  Hi, thank you for calling pizza. This is VL, m...      Null   \n",
       "45   46  Thank you for calling Pizza Hut may know your ...       NSW   \n",
       "52   53  Want to chat minimis? Karen may have your name...       NSW   \n",
       "62   63  Hi, welcome to Pizza Hut. My name is Christine...       QLD   \n",
       "22   23  Welcome to Pizza Hut. My name is Miguel can ha...      Null   \n",
       "39   40  Thank you for calling Pizza Hut. This is Jenny...      Null   \n",
       "28   29  Thank you for calling Pizza Hut is Joanna spea...       NSW   \n",
       "\n",
       "                                           clean_text  polarity sentiment  \n",
       "20  pizza office chloe pleasehi connect crumble pi...    -0.022       Neg  \n",
       "56  michael pizza hut near namea highly hello sist...     0.137       Pos  \n",
       "61  thank call pizza hut shane namemy call pick de...    -0.078       Neg  \n",
       "64  thank call pizza pleasehi pizza hut wanna room...    -0.009       Neg  \n",
       "45  thank call pizza hut know thank call pick deli...     0.109       Pos  \n",
       "52  want chat minimis karen yes call pick delivery...    -0.030       Neg  \n",
       "62  welcome pizza hut christine pleaseis delivery ...     0.197       Pos  \n",
       "22  welcome pizza hut miguel pleasemy good afterno...     0.217       Pos  \n",
       "39  thank call pizza hut jenny namea mattress sate...     0.344       Pos  \n",
       "28  thank call pizza hut joanna speak namemy call ...    -0.083       Neg  "
      ]
     },
     "execution_count": 12,
     "metadata": {},
     "output_type": "execute_result"
    }
   ],
   "source": [
    "df['sentiment'] = df['polarity'].apply(lambda x: \"Pos\" if x>0 else(\"Neg\" if x<0 else \"Neu\") )\n",
    "df.sample(10)"
   ]
  },
  {
   "cell_type": "code",
   "execution_count": 13,
   "metadata": {},
   "outputs": [
    {
     "data": {
      "text/plain": [
       "Pos    45\n",
       "Neg    19\n",
       "Neu     1\n",
       "Name: sentiment, dtype: int64"
      ]
     },
     "execution_count": 13,
     "metadata": {},
     "output_type": "execute_result"
    }
   ],
   "source": [
    "df.sentiment.value_counts()"
   ]
  },
  {
   "cell_type": "markdown",
   "metadata": {},
   "source": [
    "#  Emotion Analysis"
   ]
  },
  {
   "cell_type": "code",
   "execution_count": 14,
   "metadata": {},
   "outputs": [],
   "source": [
    "def emotion_analysis(text):\n",
    "    emotion_list = []\n",
    "    with open('Emotions.txt', 'r') as file:\n",
    "        for line in file:\n",
    "            clear_line = line.replace(\"\\n\", '').replace(\",\", '').replace(\"'\", '').strip()\n",
    "            word, emotion = clear_line.split(':')\n",
    "        \n",
    "            if word in text:\n",
    "                emotion_list.append(emotion)\n",
    "    return emotion_list"
   ]
  },
  {
   "cell_type": "code",
   "execution_count": 17,
   "metadata": {},
   "outputs": [
    {
     "data": {
      "text/html": [
       "<div>\n",
       "<style scoped>\n",
       "    .dataframe tbody tr th:only-of-type {\n",
       "        vertical-align: middle;\n",
       "    }\n",
       "\n",
       "    .dataframe tbody tr th {\n",
       "        vertical-align: top;\n",
       "    }\n",
       "\n",
       "    .dataframe thead th {\n",
       "        text-align: right;\n",
       "    }\n",
       "</style>\n",
       "<table border=\"1\" class=\"dataframe\">\n",
       "  <thead>\n",
       "    <tr style=\"text-align: right;\">\n",
       "      <th></th>\n",
       "      <th>Sno</th>\n",
       "      <th>Text</th>\n",
       "      <th>State</th>\n",
       "      <th>clean_text</th>\n",
       "      <th>polarity</th>\n",
       "      <th>sentiment</th>\n",
       "      <th>emotions</th>\n",
       "    </tr>\n",
       "  </thead>\n",
       "  <tbody>\n",
       "    <tr>\n",
       "      <th>0</th>\n",
       "      <td>1</td>\n",
       "      <td>Hi, welcome to Pizza Hut. My name is Christine...</td>\n",
       "      <td>Null</td>\n",
       "      <td>welcome pizza hut christine pleasehi dear ipi ...</td>\n",
       "      <td>0.222</td>\n",
       "      <td>Pos</td>\n",
       "      <td>attached,  alone,  apathetic</td>\n",
       "    </tr>\n",
       "    <tr>\n",
       "      <th>37</th>\n",
       "      <td>38</td>\n",
       "      <td>Hi, welcome to Pizza Hut Irene speaking. Can I...</td>\n",
       "      <td>QLD</td>\n",
       "      <td>welcome pizza hut irene speak pleaseoffline ha...</td>\n",
       "      <td>0.100</td>\n",
       "      <td>Pos</td>\n",
       "      <td>fearless,  free,  happy,  apathetic</td>\n",
       "    </tr>\n",
       "    <tr>\n",
       "      <th>48</th>\n",
       "      <td>49</td>\n",
       "      <td>Thank you for calling Pizza Hut. This is Joann...</td>\n",
       "      <td>Victoria</td>\n",
       "      <td>thank call pizza hut joanna speak namehow call...</td>\n",
       "      <td>0.133</td>\n",
       "      <td>Pos</td>\n",
       "      <td>fearful,  happy,  apathetic</td>\n",
       "    </tr>\n",
       "    <tr>\n",
       "      <th>1</th>\n",
       "      <td>2</td>\n",
       "      <td>Hi, welcome to a Pizza Hut is Chris may have y...</td>\n",
       "      <td>NSW</td>\n",
       "      <td>welcome pizza hut chris pleasesee pay like hea...</td>\n",
       "      <td>-0.029</td>\n",
       "      <td>Neg</td>\n",
       "      <td>free,  sad,  sad,  apathetic</td>\n",
       "    </tr>\n",
       "    <tr>\n",
       "      <th>55</th>\n",
       "      <td>56</td>\n",
       "      <td>Welcome to Pizza Hut. My name is Miguel. Can I...</td>\n",
       "      <td>Victoria</td>\n",
       "      <td>welcome pizza hut miguel namegood evening orde...</td>\n",
       "      <td>0.070</td>\n",
       "      <td>Pos</td>\n",
       "      <td>fearful,  apathetic</td>\n",
       "    </tr>\n",
       "    <tr>\n",
       "      <th>49</th>\n",
       "      <td>50</td>\n",
       "      <td>Welcome to Pizza Hut. My name is Travis Mayer ...</td>\n",
       "      <td>NSW</td>\n",
       "      <td>welcome pizza hut travis mayer bringing hello ...</td>\n",
       "      <td>0.076</td>\n",
       "      <td>Pos</td>\n",
       "      <td>sad</td>\n",
       "    </tr>\n",
       "    <tr>\n",
       "      <th>34</th>\n",
       "      <td>35</td>\n",
       "      <td>Contact center my name is Maxine. May have you...</td>\n",
       "      <td>QLD</td>\n",
       "      <td>contact center maxine pleaseyes freeze call de...</td>\n",
       "      <td>-0.078</td>\n",
       "      <td>Neg</td>\n",
       "      <td>angry,  free,  sad,  sad,  apathetic</td>\n",
       "    </tr>\n",
       "    <tr>\n",
       "      <th>19</th>\n",
       "      <td>20</td>\n",
       "      <td>Hi, thank you for calling Pizza Hut. My name i...</td>\n",
       "      <td>QLD</td>\n",
       "      <td>thank call pizza hut angel pleaseare fan order...</td>\n",
       "      <td>0.095</td>\n",
       "      <td>Pos</td>\n",
       "      <td>apathetic</td>\n",
       "    </tr>\n",
       "    <tr>\n",
       "      <th>62</th>\n",
       "      <td>63</td>\n",
       "      <td>Hi, welcome to Pizza Hut. My name is Christine...</td>\n",
       "      <td>QLD</td>\n",
       "      <td>welcome pizza hut christine pleaseis delivery ...</td>\n",
       "      <td>0.197</td>\n",
       "      <td>Pos</td>\n",
       "      <td>apathetic</td>\n",
       "    </tr>\n",
       "    <tr>\n",
       "      <th>52</th>\n",
       "      <td>53</td>\n",
       "      <td>Want to chat minimis? Karen may have your name...</td>\n",
       "      <td>NSW</td>\n",
       "      <td>want chat minimis karen yes call pick delivery...</td>\n",
       "      <td>-0.030</td>\n",
       "      <td>Neg</td>\n",
       "      <td>apathetic</td>\n",
       "    </tr>\n",
       "  </tbody>\n",
       "</table>\n",
       "</div>"
      ],
      "text/plain": [
       "    Sno                                               Text     State  \\\n",
       "0     1  Hi, welcome to Pizza Hut. My name is Christine...      Null   \n",
       "37   38  Hi, welcome to Pizza Hut Irene speaking. Can I...       QLD   \n",
       "48   49  Thank you for calling Pizza Hut. This is Joann...  Victoria   \n",
       "1     2  Hi, welcome to a Pizza Hut is Chris may have y...       NSW   \n",
       "55   56  Welcome to Pizza Hut. My name is Miguel. Can I...  Victoria   \n",
       "49   50  Welcome to Pizza Hut. My name is Travis Mayer ...       NSW   \n",
       "34   35  Contact center my name is Maxine. May have you...       QLD   \n",
       "19   20  Hi, thank you for calling Pizza Hut. My name i...       QLD   \n",
       "62   63  Hi, welcome to Pizza Hut. My name is Christine...       QLD   \n",
       "52   53  Want to chat minimis? Karen may have your name...       NSW   \n",
       "\n",
       "                                           clean_text  polarity sentiment  \\\n",
       "0   welcome pizza hut christine pleasehi dear ipi ...     0.222       Pos   \n",
       "37  welcome pizza hut irene speak pleaseoffline ha...     0.100       Pos   \n",
       "48  thank call pizza hut joanna speak namehow call...     0.133       Pos   \n",
       "1   welcome pizza hut chris pleasesee pay like hea...    -0.029       Neg   \n",
       "55  welcome pizza hut miguel namegood evening orde...     0.070       Pos   \n",
       "49  welcome pizza hut travis mayer bringing hello ...     0.076       Pos   \n",
       "34  contact center maxine pleaseyes freeze call de...    -0.078       Neg   \n",
       "19  thank call pizza hut angel pleaseare fan order...     0.095       Pos   \n",
       "62  welcome pizza hut christine pleaseis delivery ...     0.197       Pos   \n",
       "52  want chat minimis karen yes call pick delivery...    -0.030       Neg   \n",
       "\n",
       "                                 emotions  \n",
       "0            attached,  alone,  apathetic  \n",
       "37    fearless,  free,  happy,  apathetic  \n",
       "48            fearful,  happy,  apathetic  \n",
       "1            free,  sad,  sad,  apathetic  \n",
       "55                    fearful,  apathetic  \n",
       "49                                    sad  \n",
       "34   angry,  free,  sad,  sad,  apathetic  \n",
       "19                              apathetic  \n",
       "62                              apathetic  \n",
       "52                              apathetic  "
      ]
     },
     "execution_count": 17,
     "metadata": {},
     "output_type": "execute_result"
    }
   ],
   "source": [
    "df['emotions'] = df['clean_text'].apply(emotion_analysis)\n",
    "df['emotions'] = df['emotions'].apply(lambda x: ', '.join(x))\n",
    "df.sample(10)"
   ]
  },
  {
   "cell_type": "code",
   "execution_count": 21,
   "metadata": {},
   "outputs": [
    {
     "data": {
      "text/plain": [
       "Pos    45\n",
       "Neg    19\n",
       "Neu     1\n",
       "Name: sentiment, dtype: int64"
      ]
     },
     "execution_count": 21,
     "metadata": {},
     "output_type": "execute_result"
    }
   ],
   "source": [
    "df.sentiment.value_counts()"
   ]
  },
  {
   "cell_type": "code",
   "execution_count": null,
   "metadata": {},
   "outputs": [],
   "source": []
  }
 ],
 "metadata": {
  "kernelspec": {
   "display_name": "Python 3",
   "language": "python",
   "name": "python3"
  },
  "language_info": {
   "codemirror_mode": {
    "name": "ipython",
    "version": 3
   },
   "file_extension": ".py",
   "mimetype": "text/x-python",
   "name": "python",
   "nbconvert_exporter": "python",
   "pygments_lexer": "ipython3",
   "version": "3.8.3"
  }
 },
 "nbformat": 4,
 "nbformat_minor": 4
}
