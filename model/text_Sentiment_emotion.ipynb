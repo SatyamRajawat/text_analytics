{
 "cells": [
  {
   "cell_type": "code",
   "execution_count": 1,
   "metadata": {},
   "outputs": [],
   "source": [
    "# Importing basic libraries\n",
    "import pandas as pd\n",
    "import numpy as np\n",
    "import spacy\n",
    "import string\n",
    "punct = string.punctuation\n",
    "nlp = spacy.load('en_core_web_sm') #Loading spacy english"
   ]
  },
  {
   "cell_type": "code",
   "execution_count": 2,
   "metadata": {},
   "outputs": [
    {
     "name": "stdout",
     "output_type": "stream",
     "text": [
      "(14675, 2)\n"
     ]
    },
    {
     "data": {
      "text/html": [
       "<div>\n",
       "<style scoped>\n",
       "    .dataframe tbody tr th:only-of-type {\n",
       "        vertical-align: middle;\n",
       "    }\n",
       "\n",
       "    .dataframe tbody tr th {\n",
       "        vertical-align: top;\n",
       "    }\n",
       "\n",
       "    .dataframe thead th {\n",
       "        text-align: right;\n",
       "    }\n",
       "</style>\n",
       "<table border=\"1\" class=\"dataframe\">\n",
       "  <thead>\n",
       "    <tr style=\"text-align: right;\">\n",
       "      <th></th>\n",
       "      <th>sentiment</th>\n",
       "      <th>review</th>\n",
       "    </tr>\n",
       "  </thead>\n",
       "  <tbody>\n",
       "    <tr>\n",
       "      <th>0</th>\n",
       "      <td>1</td>\n",
       "      <td>Good but need updates and improvements</td>\n",
       "    </tr>\n",
       "    <tr>\n",
       "      <th>1</th>\n",
       "      <td>0</td>\n",
       "      <td>Worst mobile i have bought ever, Battery is dr...</td>\n",
       "    </tr>\n",
       "    <tr>\n",
       "      <th>2</th>\n",
       "      <td>1</td>\n",
       "      <td>when I will get my 10% cash back.... its alrea...</td>\n",
       "    </tr>\n",
       "    <tr>\n",
       "      <th>3</th>\n",
       "      <td>1</td>\n",
       "      <td>Good</td>\n",
       "    </tr>\n",
       "    <tr>\n",
       "      <th>4</th>\n",
       "      <td>0</td>\n",
       "      <td>The worst phone everThey have changed the last...</td>\n",
       "    </tr>\n",
       "  </tbody>\n",
       "</table>\n",
       "</div>"
      ],
      "text/plain": [
       "   sentiment                                             review\n",
       "0          1             Good but need updates and improvements\n",
       "1          0  Worst mobile i have bought ever, Battery is dr...\n",
       "2          1  when I will get my 10% cash back.... its alrea...\n",
       "3          1                                               Good\n",
       "4          0  The worst phone everThey have changed the last..."
      ]
     },
     "execution_count": 2,
     "metadata": {},
     "output_type": "execute_result"
    }
   ],
   "source": [
    "df = pd.read_csv('review.csv')  #reading reviews dataset\n",
    "print(df.shape)\n",
    "df.head()"
   ]
  },
  {
   "cell_type": "code",
   "execution_count": 3,
   "metadata": {},
   "outputs": [
    {
     "data": {
      "text/plain": [
       "0    7712\n",
       "1    6963\n",
       "Name: sentiment, dtype: int64"
      ]
     },
     "execution_count": 3,
     "metadata": {},
     "output_type": "execute_result"
    }
   ],
   "source": [
    "df['sentiment'].value_counts()"
   ]
  },
  {
   "cell_type": "code",
   "execution_count": 4,
   "metadata": {},
   "outputs": [
    {
     "data": {
      "text/plain": [
       "sentiment    0\n",
       "review       0\n",
       "dtype: int64"
      ]
     },
     "execution_count": 4,
     "metadata": {},
     "output_type": "execute_result"
    }
   ],
   "source": [
    "df.isnull().sum()"
   ]
  },
  {
   "cell_type": "code",
   "execution_count": 5,
   "metadata": {},
   "outputs": [],
   "source": [
    "# Text Processing \n",
    "def text_clean(text):\n",
    "    text = text.lower()  #Convert text in lower case\n",
    "    punc_removed = [char for char in text if char not in punct]  #Removing Punctuations\n",
    "    punc_removed_join = ''.join(punc_removed) \n",
    "    \n",
    "    text_out = []\n",
    "    doc= nlp(punc_removed_join)\n",
    "    for token in doc:\n",
    "        if token.is_stop == False and token.is_alpha and len(token)>2:\n",
    "            lemma = token.lemma_            #lemmatization of token word\n",
    "            text_out.append(lemma)\n",
    "            \n",
    "    return text_out"
   ]
  },
  {
   "cell_type": "code",
   "execution_count": 6,
   "metadata": {},
   "outputs": [],
   "source": [
    "# df['clean_doc'] = df['review'].apply(text_clean) #Apply Preprocessing of text\n",
    "# df.head()"
   ]
  },
  {
   "cell_type": "code",
   "execution_count": 7,
   "metadata": {},
   "outputs": [],
   "source": [
    "# from sklearn.feature_extraction.text import TfidfVectorizer\n",
    "# tfidf = TfidfVectorizer(tokenizer = text_clean,max_features=150)\n",
    "# print(X.shape)"
   ]
  },
  {
   "cell_type": "code",
   "execution_count": 8,
   "metadata": {},
   "outputs": [],
   "source": [
    "from sklearn.feature_extraction.text import CountVectorizer\n",
    "from sklearn.svm import LinearSVC\n",
    "from sklearn.model_selection import train_test_split\n",
    "from sklearn.pipeline import Pipeline\n",
    "\n",
    "# Vectorizer\n",
    "cv = CountVectorizer(tokenizer = text_clean,max_features=150)\n",
    "\n",
    "# Decleare model\n",
    "classifier = LinearSVC()"
   ]
  },
  {
   "cell_type": "code",
   "execution_count": 9,
   "metadata": {},
   "outputs": [],
   "source": [
    "X = df['review']\n",
    "y = df['sentiment']"
   ]
  },
  {
   "cell_type": "code",
   "execution_count": 10,
   "metadata": {},
   "outputs": [
    {
     "data": {
      "text/plain": [
       "((10272,), (4403,))"
      ]
     },
     "execution_count": 10,
     "metadata": {},
     "output_type": "execute_result"
    }
   ],
   "source": [
    "X_train, X_test, y_train, y_test = train_test_split(X, y, test_size = 0.3, random_state = 42)\n",
    "X_train.shape, X_test.shape"
   ]
  },
  {
   "cell_type": "code",
   "execution_count": 11,
   "metadata": {},
   "outputs": [],
   "source": [
    "# classifier.fit(X_train, y_train)    #fitting training data in model\n",
    "# y_pred = classifier.predict(X_test)  #getting predict value on test data\n",
    "\n",
    "# score = classifier.score(X_test, y_test) #getting accuracy on predict and real data\n",
    "# cm = confusion_matrix(y_test, y_pred)  #generating confussion metrics\n",
    "# cr1 = classification_report(y_test, y_pred)  #generating classification report\n",
    "\n",
    "# print(\"Logistic Regression Accuracy :   %0.3f\" % score)\n",
    "# print(\"Confussion Metrics : \",\"\\n\",cm)\n",
    "# print(\"Classification Report : \",\"\\n\",cr1)"
   ]
  },
  {
   "cell_type": "code",
   "execution_count": 12,
   "metadata": {},
   "outputs": [
    {
     "name": "stderr",
     "output_type": "stream",
     "text": [
      "C:\\Users\\satyam.singh\\anaconda3\\lib\\site-packages\\sklearn\\svm\\_base.py:976: ConvergenceWarning: Liblinear failed to converge, increase the number of iterations.\n",
      "  warnings.warn(\"Liblinear failed to converge, increase \"\n"
     ]
    },
    {
     "data": {
      "text/plain": [
       "Pipeline(steps=[('cv',\n",
       "                 CountVectorizer(max_features=150,\n",
       "                                 tokenizer=<function text_clean at 0x000001BAB203E040>)),\n",
       "                ('clf', LinearSVC())])"
      ]
     },
     "execution_count": 12,
     "metadata": {},
     "output_type": "execute_result"
    }
   ],
   "source": [
    "# Creating pipline\n",
    "clf = Pipeline([('cv', cv), ('clf', classifier)])\n",
    "clf.fit(X_train, y_train)"
   ]
  },
  {
   "cell_type": "code",
   "execution_count": 13,
   "metadata": {},
   "outputs": [],
   "source": [
    "y_pred = clf.predict(X_test) # predicting test result"
   ]
  },
  {
   "cell_type": "code",
   "execution_count": 14,
   "metadata": {},
   "outputs": [
    {
     "data": {
      "text/plain": [
       "array([0, 0, 0, ..., 0, 1, 0], dtype=int64)"
      ]
     },
     "execution_count": 14,
     "metadata": {},
     "output_type": "execute_result"
    }
   ],
   "source": [
    "y_pred"
   ]
  },
  {
   "cell_type": "code",
   "execution_count": 15,
   "metadata": {},
   "outputs": [
    {
     "name": "stdout",
     "output_type": "stream",
     "text": [
      "Classification Report : \n",
      "               precision    recall  f1-score   support\n",
      "\n",
      "           0       0.85      0.80      0.82      2311\n",
      "           1       0.79      0.84      0.82      2092\n",
      "\n",
      "    accuracy                           0.82      4403\n",
      "   macro avg       0.82      0.82      0.82      4403\n",
      "weighted avg       0.82      0.82      0.82      4403\n",
      "\n"
     ]
    }
   ],
   "source": [
    "#  Getting Classification Report\n",
    "from sklearn.metrics import accuracy_score, classification_report, confusion_matrix\n",
    "print(\"Classification Report :\",\"\\n\",classification_report(y_test, y_pred))"
   ]
  },
  {
   "cell_type": "code",
   "execution_count": 16,
   "metadata": {},
   "outputs": [
    {
     "data": {
      "text/plain": [
       "array([[1852,  459],\n",
       "       [ 334, 1758]], dtype=int64)"
      ]
     },
     "execution_count": 16,
     "metadata": {},
     "output_type": "execute_result"
    }
   ],
   "source": [
    "# Printing Confussion metrics\n",
    "confusion_matrix(y_test, y_pred)"
   ]
  },
  {
   "cell_type": "code",
   "execution_count": 17,
   "metadata": {},
   "outputs": [
    {
     "name": "stdout",
     "output_type": "stream",
     "text": [
      "0.8198955257778787\n"
     ]
    }
   ],
   "source": [
    "print(clf.score(X_test,y_test))"
   ]
  },
  {
   "cell_type": "code",
   "execution_count": 18,
   "metadata": {},
   "outputs": [
    {
     "name": "stdout",
     "output_type": "stream",
     "text": [
      "0.8275895638629284\n"
     ]
    }
   ],
   "source": [
    "print(clf.score(X_train,y_train))"
   ]
  },
  {
   "cell_type": "code",
   "execution_count": 32,
   "metadata": {
    "scrolled": true
   },
   "outputs": [
    {
     "name": "stdout",
     "output_type": "stream",
     "text": [
      "1\n",
      "1\n",
      "1\n",
      "1\n",
      "0\n"
     ]
    }
   ],
   "source": [
    "print(clf.predict(['Worth of watching it. Please like it'])[0])\n",
    "print(clf.predict(['Wow, this is amazing lesson'])[0])\n",
    "print(clf.predict(['this sucks'])[0])\n",
    "print(clf.predict(['Loved it. Amazing'])[0])\n",
    "print(clf.predict(['bad .'])[0])"
   ]
  },
  {
   "cell_type": "code",
   "execution_count": 20,
   "metadata": {},
   "outputs": [],
   "source": [
    "df['clean_doc'] = df['review'].apply(text_clean) #Cleaning text data for emotion"
   ]
  },
  {
   "cell_type": "code",
   "execution_count": 21,
   "metadata": {},
   "outputs": [
    {
     "data": {
      "text/html": [
       "<div>\n",
       "<style scoped>\n",
       "    .dataframe tbody tr th:only-of-type {\n",
       "        vertical-align: middle;\n",
       "    }\n",
       "\n",
       "    .dataframe tbody tr th {\n",
       "        vertical-align: top;\n",
       "    }\n",
       "\n",
       "    .dataframe thead th {\n",
       "        text-align: right;\n",
       "    }\n",
       "</style>\n",
       "<table border=\"1\" class=\"dataframe\">\n",
       "  <thead>\n",
       "    <tr style=\"text-align: right;\">\n",
       "      <th></th>\n",
       "      <th>sentiment</th>\n",
       "      <th>review</th>\n",
       "      <th>clean_doc</th>\n",
       "    </tr>\n",
       "  </thead>\n",
       "  <tbody>\n",
       "    <tr>\n",
       "      <th>0</th>\n",
       "      <td>1</td>\n",
       "      <td>Good but need updates and improvements</td>\n",
       "      <td>[good, need, update, improvement]</td>\n",
       "    </tr>\n",
       "    <tr>\n",
       "      <th>1</th>\n",
       "      <td>0</td>\n",
       "      <td>Worst mobile i have bought ever, Battery is dr...</td>\n",
       "      <td>[bad, mobile, buy, battery, drain, like, hell,...</td>\n",
       "    </tr>\n",
       "    <tr>\n",
       "      <th>2</th>\n",
       "      <td>1</td>\n",
       "      <td>when I will get my 10% cash back.... its alrea...</td>\n",
       "      <td>[cash, january]</td>\n",
       "    </tr>\n",
       "    <tr>\n",
       "      <th>3</th>\n",
       "      <td>1</td>\n",
       "      <td>Good</td>\n",
       "      <td>[good]</td>\n",
       "    </tr>\n",
       "    <tr>\n",
       "      <th>4</th>\n",
       "      <td>0</td>\n",
       "      <td>The worst phone everThey have changed the last...</td>\n",
       "      <td>[bad, phone, everthey, change, phone, problem,...</td>\n",
       "    </tr>\n",
       "  </tbody>\n",
       "</table>\n",
       "</div>"
      ],
      "text/plain": [
       "   sentiment                                             review  \\\n",
       "0          1             Good but need updates and improvements   \n",
       "1          0  Worst mobile i have bought ever, Battery is dr...   \n",
       "2          1  when I will get my 10% cash back.... its alrea...   \n",
       "3          1                                               Good   \n",
       "4          0  The worst phone everThey have changed the last...   \n",
       "\n",
       "                                           clean_doc  \n",
       "0                  [good, need, update, improvement]  \n",
       "1  [bad, mobile, buy, battery, drain, like, hell,...  \n",
       "2                                    [cash, january]  \n",
       "3                                             [good]  \n",
       "4  [bad, phone, everthey, change, phone, problem,...  "
      ]
     },
     "execution_count": 21,
     "metadata": {},
     "output_type": "execute_result"
    }
   ],
   "source": [
    "df.head()"
   ]
  },
  {
   "cell_type": "code",
   "execution_count": 22,
   "metadata": {},
   "outputs": [],
   "source": [
    "# Creating function for getting emotions \n",
    "def emotion(text):\n",
    "    emotion_list = []\n",
    "    with open('Emotions.txt', 'r') as file:\n",
    "        for line in file:\n",
    "            clear_line = line.replace(\"\\n\", '').replace(\",\", '').replace(\"'\", '').strip()\n",
    "            word, emotion = clear_line.split(':')\n",
    "        \n",
    "            if word in text:\n",
    "                emotion_list.append(emotion)\n",
    "\n",
    "    return emotion_list"
   ]
  },
  {
   "cell_type": "code",
   "execution_count": 23,
   "metadata": {},
   "outputs": [],
   "source": [
    "df['emotion'] = df['clean_doc'].apply(emotion)"
   ]
  },
  {
   "cell_type": "code",
   "execution_count": 24,
   "metadata": {},
   "outputs": [
    {
     "data": {
      "text/html": [
       "<div>\n",
       "<style scoped>\n",
       "    .dataframe tbody tr th:only-of-type {\n",
       "        vertical-align: middle;\n",
       "    }\n",
       "\n",
       "    .dataframe tbody tr th {\n",
       "        vertical-align: top;\n",
       "    }\n",
       "\n",
       "    .dataframe thead th {\n",
       "        text-align: right;\n",
       "    }\n",
       "</style>\n",
       "<table border=\"1\" class=\"dataframe\">\n",
       "  <thead>\n",
       "    <tr style=\"text-align: right;\">\n",
       "      <th></th>\n",
       "      <th>sentiment</th>\n",
       "      <th>review</th>\n",
       "      <th>clean_doc</th>\n",
       "      <th>emotion</th>\n",
       "    </tr>\n",
       "  </thead>\n",
       "  <tbody>\n",
       "    <tr>\n",
       "      <th>10266</th>\n",
       "      <td>1</td>\n",
       "      <td>Good Delevard</td>\n",
       "      <td>[good, delevard]</td>\n",
       "      <td>[]</td>\n",
       "    </tr>\n",
       "    <tr>\n",
       "      <th>12281</th>\n",
       "      <td>1</td>\n",
       "      <td>Product is good battery turbo charge is really...</td>\n",
       "      <td>[product, good, battery, turbo, charge, good, ...</td>\n",
       "      <td>[]</td>\n",
       "    </tr>\n",
       "    <tr>\n",
       "      <th>9173</th>\n",
       "      <td>1</td>\n",
       "      <td>Awesome</td>\n",
       "      <td>[awesome]</td>\n",
       "      <td>[]</td>\n",
       "    </tr>\n",
       "    <tr>\n",
       "      <th>14454</th>\n",
       "      <td>0</td>\n",
       "      <td>Phone is hanging after installing FB, messenge...</td>\n",
       "      <td>[phone, hang, instal, messenger, whattsappvery...</td>\n",
       "      <td>[]</td>\n",
       "    </tr>\n",
       "    <tr>\n",
       "      <th>11378</th>\n",
       "      <td>0</td>\n",
       "      <td>Nice phone but not very good phone</td>\n",
       "      <td>[nice, phone, good, phone]</td>\n",
       "      <td>[]</td>\n",
       "    </tr>\n",
       "    <tr>\n",
       "      <th>2342</th>\n",
       "      <td>1</td>\n",
       "      <td>Nice nic charging</td>\n",
       "      <td>[nice, nic, charge]</td>\n",
       "      <td>[]</td>\n",
       "    </tr>\n",
       "    <tr>\n",
       "      <th>12393</th>\n",
       "      <td>1</td>\n",
       "      <td>Very good product</td>\n",
       "      <td>[good, product]</td>\n",
       "      <td>[]</td>\n",
       "    </tr>\n",
       "    <tr>\n",
       "      <th>3081</th>\n",
       "      <td>1</td>\n",
       "      <td>Good phone</td>\n",
       "      <td>[good, phone]</td>\n",
       "      <td>[]</td>\n",
       "    </tr>\n",
       "    <tr>\n",
       "      <th>13062</th>\n",
       "      <td>1</td>\n",
       "      <td>Good Phone.Inbuilt Compas is not there.Schedul...</td>\n",
       "      <td>[good, phoneinbuilt, compa, thereschedule, power]</td>\n",
       "      <td>[]</td>\n",
       "    </tr>\n",
       "    <tr>\n",
       "      <th>7486</th>\n",
       "      <td>1</td>\n",
       "      <td>Good looking mobile.... Battery draining fastl...</td>\n",
       "      <td>[good, look, mobile, battery, drain, fastly, c...</td>\n",
       "      <td>[]</td>\n",
       "    </tr>\n",
       "    <tr>\n",
       "      <th>3832</th>\n",
       "      <td>1</td>\n",
       "      <td>Only one colour led light (white).... Bt light...</td>\n",
       "      <td>[colour, lead, light, white, light, work, what...</td>\n",
       "      <td>[]</td>\n",
       "    </tr>\n",
       "    <tr>\n",
       "      <th>356</th>\n",
       "      <td>0</td>\n",
       "      <td>Camera is not good</td>\n",
       "      <td>[camera, good]</td>\n",
       "      <td>[]</td>\n",
       "    </tr>\n",
       "    <tr>\n",
       "      <th>2184</th>\n",
       "      <td>0</td>\n",
       "      <td>Camera quality is average even with dual camer...</td>\n",
       "      <td>[camera, quality, average, dual, camera, batte...</td>\n",
       "      <td>[ average]</td>\n",
       "    </tr>\n",
       "    <tr>\n",
       "      <th>13206</th>\n",
       "      <td>1</td>\n",
       "      <td>Awesome mobile</td>\n",
       "      <td>[awesome, mobile]</td>\n",
       "      <td>[]</td>\n",
       "    </tr>\n",
       "    <tr>\n",
       "      <th>10633</th>\n",
       "      <td>1</td>\n",
       "      <td>Good phone to switch too. But if you are usef ...</td>\n",
       "      <td>[good, phone, switch, usef, samsung, phone, di...</td>\n",
       "      <td>[]</td>\n",
       "    </tr>\n",
       "    <tr>\n",
       "      <th>12399</th>\n",
       "      <td>0</td>\n",
       "      <td>I did nt get the head set in the box</td>\n",
       "      <td>[head, set, box]</td>\n",
       "      <td>[]</td>\n",
       "    </tr>\n",
       "    <tr>\n",
       "      <th>3951</th>\n",
       "      <td>1</td>\n",
       "      <td>Excellent. Value for money.</td>\n",
       "      <td>[excellent, value, money]</td>\n",
       "      <td>[]</td>\n",
       "    </tr>\n",
       "    <tr>\n",
       "      <th>12035</th>\n",
       "      <td>0</td>\n",
       "      <td>I use before k4 LenovoMany funtion not in k8</td>\n",
       "      <td>[use, lenovomany, funtion]</td>\n",
       "      <td>[]</td>\n",
       "    </tr>\n",
       "    <tr>\n",
       "      <th>14133</th>\n",
       "      <td>0</td>\n",
       "      <td>Worst product with waste of money start lining...</td>\n",
       "      <td>[bad, product, waste, money, start, line, scre...</td>\n",
       "      <td>[]</td>\n",
       "    </tr>\n",
       "    <tr>\n",
       "      <th>11086</th>\n",
       "      <td>1</td>\n",
       "      <td>Lenovo at it's best always</td>\n",
       "      <td>[lenovo, good]</td>\n",
       "      <td>[]</td>\n",
       "    </tr>\n",
       "    <tr>\n",
       "      <th>3519</th>\n",
       "      <td>0</td>\n",
       "      <td>Totally disappointed,heating issue can't able ...</td>\n",
       "      <td>[totally, disappointedheate, issue, able, use,...</td>\n",
       "      <td>[]</td>\n",
       "    </tr>\n",
       "    <tr>\n",
       "      <th>11557</th>\n",
       "      <td>1</td>\n",
       "      <td>Great till now only it was heating while charg...</td>\n",
       "      <td>[great, till, heat, charge, maybe, turbo, powe...</td>\n",
       "      <td>[ happy]</td>\n",
       "    </tr>\n",
       "    <tr>\n",
       "      <th>14477</th>\n",
       "      <td>1</td>\n",
       "      <td>First few day I had some doubts for that phone...</td>\n",
       "      <td>[day, doubt, phone, software, issue, camera, g...</td>\n",
       "      <td>[]</td>\n",
       "    </tr>\n",
       "    <tr>\n",
       "      <th>7426</th>\n",
       "      <td>0</td>\n",
       "      <td>Product received is good quality but the earph...</td>\n",
       "      <td>[product, receive, good, quality, earphone, mi...</td>\n",
       "      <td>[]</td>\n",
       "    </tr>\n",
       "    <tr>\n",
       "      <th>1523</th>\n",
       "      <td>1</td>\n",
       "      <td>its a good phone. simple but more effectively</td>\n",
       "      <td>[good, phone, simple, effectively]</td>\n",
       "      <td>[]</td>\n",
       "    </tr>\n",
       "    <tr>\n",
       "      <th>7731</th>\n",
       "      <td>0</td>\n",
       "      <td>Poor WI-FI connectivity, poor camera quality w...</td>\n",
       "      <td>[poor, wifi, connectivity, poor, camera, quali...</td>\n",
       "      <td>[]</td>\n",
       "    </tr>\n",
       "    <tr>\n",
       "      <th>7004</th>\n",
       "      <td>0</td>\n",
       "      <td>Poor quality mobile over heating customers don...</td>\n",
       "      <td>[poor, quality, mobile, heating, customer, cha...</td>\n",
       "      <td>[]</td>\n",
       "    </tr>\n",
       "    <tr>\n",
       "      <th>10512</th>\n",
       "      <td>0</td>\n",
       "      <td>K8 is great for capturing photos . The build i...</td>\n",
       "      <td>[great, capture, photo, build, rugged, good, l...</td>\n",
       "      <td>[ attracted,  sad,  happy,  sad]</td>\n",
       "    </tr>\n",
       "    <tr>\n",
       "      <th>11962</th>\n",
       "      <td>0</td>\n",
       "      <td>This phone very bad.big network issue.and Amaz...</td>\n",
       "      <td>[phone, badbig, network, issueand, amazon, sol...</td>\n",
       "      <td>[]</td>\n",
       "    </tr>\n",
       "    <tr>\n",
       "      <th>3877</th>\n",
       "      <td>0</td>\n",
       "      <td>Average..not a special and best mobile on this...</td>\n",
       "      <td>[averagenot, special, good, mobile, rangesound...</td>\n",
       "      <td>[ sad,  sad]</td>\n",
       "    </tr>\n",
       "    <tr>\n",
       "      <th>10621</th>\n",
       "      <td>0</td>\n",
       "      <td>Battery performance is not good</td>\n",
       "      <td>[battery, performance, good]</td>\n",
       "      <td>[]</td>\n",
       "    </tr>\n",
       "    <tr>\n",
       "      <th>11156</th>\n",
       "      <td>1</td>\n",
       "      <td>Good looking , smooth response, good sound via...</td>\n",
       "      <td>[good, looking, smooth, response, good, sound,...</td>\n",
       "      <td>[]</td>\n",
       "    </tr>\n",
       "    <tr>\n",
       "      <th>12752</th>\n",
       "      <td>1</td>\n",
       "      <td>paradoxically great phone but some features li...</td>\n",
       "      <td>[paradoxically, great, phone, feature, like, p...</td>\n",
       "      <td>[ happy]</td>\n",
       "    </tr>\n",
       "    <tr>\n",
       "      <th>9397</th>\n",
       "      <td>1</td>\n",
       "      <td>Camera quality is superb and battery also long...</td>\n",
       "      <td>[camera, quality, superb, battery, long, last]</td>\n",
       "      <td>[]</td>\n",
       "    </tr>\n",
       "    <tr>\n",
       "      <th>9446</th>\n",
       "      <td>0</td>\n",
       "      <td>The phone loses the signal even though it show...</td>\n",
       "      <td>[phone, lose, signal, show, strength, receive,...</td>\n",
       "      <td>[ angry,  sad]</td>\n",
       "    </tr>\n",
       "    <tr>\n",
       "      <th>5586</th>\n",
       "      <td>0</td>\n",
       "      <td>Sir yesterday I updated a software, from yeste...</td>\n",
       "      <td>[sir, yesterday, update, software, yesterday, ...</td>\n",
       "      <td>[]</td>\n",
       "    </tr>\n",
       "    <tr>\n",
       "      <th>11087</th>\n",
       "      <td>1</td>\n",
       "      <td>Wow....Great phone superb battery ....Stylish ...</td>\n",
       "      <td>[wowgreat, phone, superb, battery, stylish, de...</td>\n",
       "      <td>[]</td>\n",
       "    </tr>\n",
       "    <tr>\n",
       "      <th>5523</th>\n",
       "      <td>1</td>\n",
       "      <td>awesome</td>\n",
       "      <td>[awesome]</td>\n",
       "      <td>[]</td>\n",
       "    </tr>\n",
       "    <tr>\n",
       "      <th>2428</th>\n",
       "      <td>0</td>\n",
       "      <td>Need to fix heating issue, battery and camera ...</td>\n",
       "      <td>[need, fix, heating, issue, battery, camera, d...</td>\n",
       "      <td>[]</td>\n",
       "    </tr>\n",
       "    <tr>\n",
       "      <th>6880</th>\n",
       "      <td>0</td>\n",
       "      <td>Call recording app not working, messages, what...</td>\n",
       "      <td>[record, app, work, message, whatsapp, miss, s...</td>\n",
       "      <td>[ average]</td>\n",
       "    </tr>\n",
       "    <tr>\n",
       "      <th>3910</th>\n",
       "      <td>0</td>\n",
       "      <td>Not up to the level..... Normal like others</td>\n",
       "      <td>[level, normal, like]</td>\n",
       "      <td>[]</td>\n",
       "    </tr>\n",
       "    <tr>\n",
       "      <th>6932</th>\n",
       "      <td>1</td>\n",
       "      <td>This mobile is incredible with great features....</td>\n",
       "      <td>[mobile, incredible, great, feature, dual, fla...</td>\n",
       "      <td>[ happy]</td>\n",
       "    </tr>\n",
       "    <tr>\n",
       "      <th>107</th>\n",
       "      <td>0</td>\n",
       "      <td>Nice..</td>\n",
       "      <td>[nice]</td>\n",
       "      <td>[]</td>\n",
       "    </tr>\n",
       "    <tr>\n",
       "      <th>2671</th>\n",
       "      <td>1</td>\n",
       "      <td>Improve Flash quality</td>\n",
       "      <td>[improve, flash, quality]</td>\n",
       "      <td>[]</td>\n",
       "    </tr>\n",
       "    <tr>\n",
       "      <th>12453</th>\n",
       "      <td>1</td>\n",
       "      <td>Its An great Device for what you are paying!!P...</td>\n",
       "      <td>[great, device, payingperformance, notchonly, ...</td>\n",
       "      <td>[ happy]</td>\n",
       "    </tr>\n",
       "    <tr>\n",
       "      <th>1465</th>\n",
       "      <td>0</td>\n",
       "      <td>Don't buy this phone cast screen is not supported</td>\n",
       "      <td>[buy, phone, cast, screen, support]</td>\n",
       "      <td>[]</td>\n",
       "    </tr>\n",
       "    <tr>\n",
       "      <th>7236</th>\n",
       "      <td>1</td>\n",
       "      <td>Mobile is superb. You can also do video call f...</td>\n",
       "      <td>[mobile, superb, video, dialer, drawback, heav...</td>\n",
       "      <td>[]</td>\n",
       "    </tr>\n",
       "    <tr>\n",
       "      <th>6007</th>\n",
       "      <td>1</td>\n",
       "      <td>Value of money</td>\n",
       "      <td>[value, money]</td>\n",
       "      <td>[]</td>\n",
       "    </tr>\n",
       "    <tr>\n",
       "      <th>8929</th>\n",
       "      <td>1</td>\n",
       "      <td>This a good phone , camera quality is too good...</td>\n",
       "      <td>[good, phone, camera, quality, good, battery, ...</td>\n",
       "      <td>[]</td>\n",
       "    </tr>\n",
       "    <tr>\n",
       "      <th>5601</th>\n",
       "      <td>1</td>\n",
       "      <td>nice &amp; beautiful features</td>\n",
       "      <td>[nice, beautiful, feature]</td>\n",
       "      <td>[]</td>\n",
       "    </tr>\n",
       "  </tbody>\n",
       "</table>\n",
       "</div>"
      ],
      "text/plain": [
       "       sentiment                                             review  \\\n",
       "10266          1                                      Good Delevard   \n",
       "12281          1  Product is good battery turbo charge is really...   \n",
       "9173           1                                            Awesome   \n",
       "14454          0  Phone is hanging after installing FB, messenge...   \n",
       "11378          0                 Nice phone but not very good phone   \n",
       "2342           1                                  Nice nic charging   \n",
       "12393          1                                  Very good product   \n",
       "3081           1                                         Good phone   \n",
       "13062          1  Good Phone.Inbuilt Compas is not there.Schedul...   \n",
       "7486           1  Good looking mobile.... Battery draining fastl...   \n",
       "3832           1  Only one colour led light (white).... Bt light...   \n",
       "356            0                                 Camera is not good   \n",
       "2184           0  Camera quality is average even with dual camer...   \n",
       "13206          1                                     Awesome mobile   \n",
       "10633          1  Good phone to switch too. But if you are usef ...   \n",
       "12399          0               I did nt get the head set in the box   \n",
       "3951           1                        Excellent. Value for money.   \n",
       "12035          0       I use before k4 LenovoMany funtion not in k8   \n",
       "14133          0  Worst product with waste of money start lining...   \n",
       "11086          1                         Lenovo at it's best always   \n",
       "3519           0  Totally disappointed,heating issue can't able ...   \n",
       "11557          1  Great till now only it was heating while charg...   \n",
       "14477          1  First few day I had some doubts for that phone...   \n",
       "7426           0  Product received is good quality but the earph...   \n",
       "1523           1      its a good phone. simple but more effectively   \n",
       "7731           0  Poor WI-FI connectivity, poor camera quality w...   \n",
       "7004           0  Poor quality mobile over heating customers don...   \n",
       "10512          0  K8 is great for capturing photos . The build i...   \n",
       "11962          0  This phone very bad.big network issue.and Amaz...   \n",
       "3877           0  Average..not a special and best mobile on this...   \n",
       "10621          0                    Battery performance is not good   \n",
       "11156          1  Good looking , smooth response, good sound via...   \n",
       "12752          1  paradoxically great phone but some features li...   \n",
       "9397           1  Camera quality is superb and battery also long...   \n",
       "9446           0  The phone loses the signal even though it show...   \n",
       "5586           0  Sir yesterday I updated a software, from yeste...   \n",
       "11087          1  Wow....Great phone superb battery ....Stylish ...   \n",
       "5523           1                                            awesome   \n",
       "2428           0  Need to fix heating issue, battery and camera ...   \n",
       "6880           0  Call recording app not working, messages, what...   \n",
       "3910           0        Not up to the level..... Normal like others   \n",
       "6932           1  This mobile is incredible with great features....   \n",
       "107            0                                             Nice..   \n",
       "2671           1                              Improve Flash quality   \n",
       "12453          1  Its An great Device for what you are paying!!P...   \n",
       "1465           0  Don't buy this phone cast screen is not supported   \n",
       "7236           1  Mobile is superb. You can also do video call f...   \n",
       "6007           1                                     Value of money   \n",
       "8929           1  This a good phone , camera quality is too good...   \n",
       "5601           1                          nice & beautiful features   \n",
       "\n",
       "                                               clean_doc  \\\n",
       "10266                                   [good, delevard]   \n",
       "12281  [product, good, battery, turbo, charge, good, ...   \n",
       "9173                                           [awesome]   \n",
       "14454  [phone, hang, instal, messenger, whattsappvery...   \n",
       "11378                         [nice, phone, good, phone]   \n",
       "2342                                 [nice, nic, charge]   \n",
       "12393                                    [good, product]   \n",
       "3081                                       [good, phone]   \n",
       "13062  [good, phoneinbuilt, compa, thereschedule, power]   \n",
       "7486   [good, look, mobile, battery, drain, fastly, c...   \n",
       "3832   [colour, lead, light, white, light, work, what...   \n",
       "356                                       [camera, good]   \n",
       "2184   [camera, quality, average, dual, camera, batte...   \n",
       "13206                                  [awesome, mobile]   \n",
       "10633  [good, phone, switch, usef, samsung, phone, di...   \n",
       "12399                                   [head, set, box]   \n",
       "3951                           [excellent, value, money]   \n",
       "12035                         [use, lenovomany, funtion]   \n",
       "14133  [bad, product, waste, money, start, line, scre...   \n",
       "11086                                     [lenovo, good]   \n",
       "3519   [totally, disappointedheate, issue, able, use,...   \n",
       "11557  [great, till, heat, charge, maybe, turbo, powe...   \n",
       "14477  [day, doubt, phone, software, issue, camera, g...   \n",
       "7426   [product, receive, good, quality, earphone, mi...   \n",
       "1523                  [good, phone, simple, effectively]   \n",
       "7731   [poor, wifi, connectivity, poor, camera, quali...   \n",
       "7004   [poor, quality, mobile, heating, customer, cha...   \n",
       "10512  [great, capture, photo, build, rugged, good, l...   \n",
       "11962  [phone, badbig, network, issueand, amazon, sol...   \n",
       "3877   [averagenot, special, good, mobile, rangesound...   \n",
       "10621                       [battery, performance, good]   \n",
       "11156  [good, looking, smooth, response, good, sound,...   \n",
       "12752  [paradoxically, great, phone, feature, like, p...   \n",
       "9397      [camera, quality, superb, battery, long, last]   \n",
       "9446   [phone, lose, signal, show, strength, receive,...   \n",
       "5586   [sir, yesterday, update, software, yesterday, ...   \n",
       "11087  [wowgreat, phone, superb, battery, stylish, de...   \n",
       "5523                                           [awesome]   \n",
       "2428   [need, fix, heating, issue, battery, camera, d...   \n",
       "6880   [record, app, work, message, whatsapp, miss, s...   \n",
       "3910                               [level, normal, like]   \n",
       "6932   [mobile, incredible, great, feature, dual, fla...   \n",
       "107                                               [nice]   \n",
       "2671                           [improve, flash, quality]   \n",
       "12453  [great, device, payingperformance, notchonly, ...   \n",
       "1465                 [buy, phone, cast, screen, support]   \n",
       "7236   [mobile, superb, video, dialer, drawback, heav...   \n",
       "6007                                      [value, money]   \n",
       "8929   [good, phone, camera, quality, good, battery, ...   \n",
       "5601                          [nice, beautiful, feature]   \n",
       "\n",
       "                                emotion  \n",
       "10266                                []  \n",
       "12281                                []  \n",
       "9173                                 []  \n",
       "14454                                []  \n",
       "11378                                []  \n",
       "2342                                 []  \n",
       "12393                                []  \n",
       "3081                                 []  \n",
       "13062                                []  \n",
       "7486                                 []  \n",
       "3832                                 []  \n",
       "356                                  []  \n",
       "2184                         [ average]  \n",
       "13206                                []  \n",
       "10633                                []  \n",
       "12399                                []  \n",
       "3951                                 []  \n",
       "12035                                []  \n",
       "14133                                []  \n",
       "11086                                []  \n",
       "3519                                 []  \n",
       "11557                          [ happy]  \n",
       "14477                                []  \n",
       "7426                                 []  \n",
       "1523                                 []  \n",
       "7731                                 []  \n",
       "7004                                 []  \n",
       "10512  [ attracted,  sad,  happy,  sad]  \n",
       "11962                                []  \n",
       "3877                       [ sad,  sad]  \n",
       "10621                                []  \n",
       "11156                                []  \n",
       "12752                          [ happy]  \n",
       "9397                                 []  \n",
       "9446                     [ angry,  sad]  \n",
       "5586                                 []  \n",
       "11087                                []  \n",
       "5523                                 []  \n",
       "2428                                 []  \n",
       "6880                         [ average]  \n",
       "3910                                 []  \n",
       "6932                           [ happy]  \n",
       "107                                  []  \n",
       "2671                                 []  \n",
       "12453                          [ happy]  \n",
       "1465                                 []  \n",
       "7236                                 []  \n",
       "6007                                 []  \n",
       "8929                                 []  \n",
       "5601                                 []  "
      ]
     },
     "execution_count": 24,
     "metadata": {},
     "output_type": "execute_result"
    }
   ],
   "source": [
    "df.sample(50)"
   ]
  },
  {
   "cell_type": "code",
   "execution_count": 25,
   "metadata": {},
   "outputs": [],
   "source": [
    "# df.to_csv('dataframe.csv')"
   ]
  },
  {
   "cell_type": "code",
   "execution_count": 26,
   "metadata": {},
   "outputs": [],
   "source": [
    "import pickle"
   ]
  },
  {
   "cell_type": "code",
   "execution_count": 27,
   "metadata": {},
   "outputs": [],
   "source": [
    "with open('model_sentiment.pkl','wb') as file:\n",
    "    pickle.dump(clf,file)"
   ]
  },
  {
   "cell_type": "code",
   "execution_count": null,
   "metadata": {},
   "outputs": [],
   "source": []
  }
 ],
 "metadata": {
  "kernelspec": {
   "display_name": "Python 3",
   "language": "python",
   "name": "python3"
  },
  "language_info": {
   "codemirror_mode": {
    "name": "ipython",
    "version": 3
   },
   "file_extension": ".py",
   "mimetype": "text/x-python",
   "name": "python",
   "nbconvert_exporter": "python",
   "pygments_lexer": "ipython3",
   "version": "3.8.3"
  }
 },
 "nbformat": 4,
 "nbformat_minor": 4
}
